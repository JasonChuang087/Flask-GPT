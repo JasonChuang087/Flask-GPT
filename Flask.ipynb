{
 "cells": [
  {
   "cell_type": "code",
   "execution_count": 9,
   "metadata": {},
   "outputs": [
    {
     "name": "stdout",
     "output_type": "stream",
     "text": [
      "Requirement already satisfied: flask_ngrok in c:\\users\\jason\\anaconda3\\lib\\site-packages (0.0.25)\n",
      "Requirement already satisfied: requests in c:\\users\\jason\\anaconda3\\lib\\site-packages (from flask_ngrok) (2.28.2)\n",
      "Requirement already satisfied: Flask>=0.8 in c:\\users\\jason\\anaconda3\\lib\\site-packages (from flask_ngrok) (1.1.2)\n",
      "Requirement already satisfied: click>=5.1 in c:\\users\\jason\\anaconda3\\lib\\site-packages (from Flask>=0.8->flask_ngrok) (8.0.4)\n",
      "Requirement already satisfied: Jinja2>=2.10.1 in c:\\users\\jason\\anaconda3\\lib\\site-packages (from Flask>=0.8->flask_ngrok) (2.11.3)\n",
      "Requirement already satisfied: itsdangerous>=0.24 in c:\\users\\jason\\anaconda3\\lib\\site-packages (from Flask>=0.8->flask_ngrok) (2.0.1)\n",
      "Requirement already satisfied: Werkzeug>=0.15 in c:\\users\\jason\\anaconda3\\lib\\site-packages (from Flask>=0.8->flask_ngrok) (2.0.3)\n",
      "Requirement already satisfied: colorama in c:\\users\\jason\\anaconda3\\lib\\site-packages (from click>=5.1->Flask>=0.8->flask_ngrok) (0.4.4)\n",
      "Requirement already satisfied: MarkupSafe>=0.23 in c:\\users\\jason\\anaconda3\\lib\\site-packages (from Jinja2>=2.10.1->Flask>=0.8->flask_ngrok) (2.0.1)\n",
      "Requirement already satisfied: certifi>=2017.4.17 in c:\\users\\jason\\anaconda3\\lib\\site-packages (from requests->flask_ngrok) (2022.9.14)\n",
      "Requirement already satisfied: idna<4,>=2.5 in c:\\users\\jason\\anaconda3\\lib\\site-packages (from requests->flask_ngrok) (3.3)\n",
      "Requirement already satisfied: charset-normalizer<4,>=2 in c:\\users\\jason\\anaconda3\\lib\\site-packages (from requests->flask_ngrok) (2.0.4)\n",
      "Requirement already satisfied: urllib3<1.27,>=1.21.1 in c:\\users\\jason\\anaconda3\\lib\\site-packages (from requests->flask_ngrok) (1.26.9)\n",
      "Requirement already satisfied: flask in c:\\users\\jason\\anaconda3\\lib\\site-packages (1.1.2)\n",
      "Requirement already satisfied: Werkzeug>=0.15 in c:\\users\\jason\\anaconda3\\lib\\site-packages (from flask) (2.0.3)\n",
      "Requirement already satisfied: click>=5.1 in c:\\users\\jason\\anaconda3\\lib\\site-packages (from flask) (8.0.4)\n",
      "Requirement already satisfied: Jinja2>=2.10.1 in c:\\users\\jason\\anaconda3\\lib\\site-packages (from flask) (2.11.3)\n",
      "Requirement already satisfied: itsdangerous>=0.24 in c:\\users\\jason\\anaconda3\\lib\\site-packages (from flask) (2.0.1)\n",
      "Requirement already satisfied: colorama in c:\\users\\jason\\anaconda3\\lib\\site-packages (from click>=5.1->flask) (0.4.4)\n",
      "Requirement already satisfied: MarkupSafe>=0.23 in c:\\users\\jason\\anaconda3\\lib\\site-packages (from Jinja2>=2.10.1->flask) (2.0.1)\n",
      "Requirement already satisfied: openai in c:\\users\\jason\\anaconda3\\lib\\site-packages (0.27.7)\n",
      "Requirement already satisfied: aiohttp in c:\\users\\jason\\anaconda3\\lib\\site-packages (from openai) (3.8.4)\n",
      "Requirement already satisfied: tqdm in c:\\users\\jason\\anaconda3\\lib\\site-packages (from openai) (4.64.0)\n",
      "Requirement already satisfied: requests>=2.20 in c:\\users\\jason\\anaconda3\\lib\\site-packages (from openai) (2.28.2)\n",
      "Requirement already satisfied: certifi>=2017.4.17 in c:\\users\\jason\\anaconda3\\lib\\site-packages (from requests>=2.20->openai) (2022.9.14)\n",
      "Requirement already satisfied: urllib3<1.27,>=1.21.1 in c:\\users\\jason\\anaconda3\\lib\\site-packages (from requests>=2.20->openai) (1.26.9)\n",
      "Requirement already satisfied: idna<4,>=2.5 in c:\\users\\jason\\anaconda3\\lib\\site-packages (from requests>=2.20->openai) (3.3)\n",
      "Requirement already satisfied: charset-normalizer<4,>=2 in c:\\users\\jason\\anaconda3\\lib\\site-packages (from requests>=2.20->openai) (2.0.4)\n",
      "Requirement already satisfied: frozenlist>=1.1.1 in c:\\users\\jason\\anaconda3\\lib\\site-packages (from aiohttp->openai) (1.2.0)\n",
      "Requirement already satisfied: async-timeout<5.0,>=4.0.0a3 in c:\\users\\jason\\anaconda3\\lib\\site-packages (from aiohttp->openai) (4.0.1)\n",
      "Requirement already satisfied: attrs>=17.3.0 in c:\\users\\jason\\anaconda3\\lib\\site-packages (from aiohttp->openai) (21.4.0)\n",
      "Requirement already satisfied: yarl<2.0,>=1.0 in c:\\users\\jason\\anaconda3\\lib\\site-packages (from aiohttp->openai) (1.6.3)\n",
      "Requirement already satisfied: aiosignal>=1.1.2 in c:\\users\\jason\\anaconda3\\lib\\site-packages (from aiohttp->openai) (1.2.0)\n",
      "Requirement already satisfied: multidict<7.0,>=4.5 in c:\\users\\jason\\anaconda3\\lib\\site-packages (from aiohttp->openai) (5.1.0)\n",
      "Requirement already satisfied: typing-extensions>=3.6.5 in c:\\users\\jason\\anaconda3\\lib\\site-packages (from async-timeout<5.0,>=4.0.0a3->aiohttp->openai) (4.1.1)\n",
      "Requirement already satisfied: colorama in c:\\users\\jason\\anaconda3\\lib\\site-packages (from tqdm->openai) (0.4.4)\n",
      "Requirement already satisfied: python-dotenv in c:\\users\\jason\\anaconda3\\lib\\site-packages (1.0.0)\n",
      "Requirement already satisfied: line-bot-sdk in c:\\users\\jason\\anaconda3\\lib\\site-packages (2.4.2)\n",
      "Requirement already satisfied: future in c:\\users\\jason\\anaconda3\\lib\\site-packages (from line-bot-sdk) (0.18.2)\n",
      "Requirement already satisfied: requests==2.28.2 in c:\\users\\jason\\anaconda3\\lib\\site-packages (from line-bot-sdk) (2.28.2)\n",
      "Requirement already satisfied: aiohttp==3.8.4 in c:\\users\\jason\\anaconda3\\lib\\site-packages (from line-bot-sdk) (3.8.4)\n",
      "Requirement already satisfied: yarl<2.0,>=1.0 in c:\\users\\jason\\anaconda3\\lib\\site-packages (from aiohttp==3.8.4->line-bot-sdk) (1.6.3)\n",
      "Requirement already satisfied: multidict<7.0,>=4.5 in c:\\users\\jason\\anaconda3\\lib\\site-packages (from aiohttp==3.8.4->line-bot-sdk) (5.1.0)\n",
      "Requirement already satisfied: aiosignal>=1.1.2 in c:\\users\\jason\\anaconda3\\lib\\site-packages (from aiohttp==3.8.4->line-bot-sdk) (1.2.0)\n",
      "Requirement already satisfied: attrs>=17.3.0 in c:\\users\\jason\\anaconda3\\lib\\site-packages (from aiohttp==3.8.4->line-bot-sdk) (21.4.0)\n",
      "Requirement already satisfied: charset-normalizer<4.0,>=2.0 in c:\\users\\jason\\anaconda3\\lib\\site-packages (from aiohttp==3.8.4->line-bot-sdk) (2.0.4)\n",
      "Requirement already satisfied: frozenlist>=1.1.1 in c:\\users\\jason\\anaconda3\\lib\\site-packages (from aiohttp==3.8.4->line-bot-sdk) (1.2.0)\n",
      "Requirement already satisfied: async-timeout<5.0,>=4.0.0a3 in c:\\users\\jason\\anaconda3\\lib\\site-packages (from aiohttp==3.8.4->line-bot-sdk) (4.0.1)\n",
      "Requirement already satisfied: urllib3<1.27,>=1.21.1 in c:\\users\\jason\\anaconda3\\lib\\site-packages (from requests==2.28.2->line-bot-sdk) (1.26.9)\n",
      "Requirement already satisfied: certifi>=2017.4.17 in c:\\users\\jason\\anaconda3\\lib\\site-packages (from requests==2.28.2->line-bot-sdk) (2022.9.14)\n",
      "Requirement already satisfied: idna<4,>=2.5 in c:\\users\\jason\\anaconda3\\lib\\site-packages (from requests==2.28.2->line-bot-sdk) (3.3)\n",
      "Requirement already satisfied: typing-extensions>=3.6.5 in c:\\users\\jason\\anaconda3\\lib\\site-packages (from async-timeout<5.0,>=4.0.0a3->aiohttp==3.8.4->line-bot-sdk) (4.1.1)\n",
      "Requirement already satisfied: beautifulsoup4 in c:\\users\\jason\\anaconda3\\lib\\site-packages (4.11.1)\n",
      "Requirement already satisfied: soupsieve>1.2 in c:\\users\\jason\\anaconda3\\lib\\site-packages (from beautifulsoup4) (2.3.1)\n",
      "Requirement already satisfied: requests in c:\\users\\jason\\anaconda3\\lib\\site-packages (2.28.2)\n",
      "Requirement already satisfied: urllib3<1.27,>=1.21.1 in c:\\users\\jason\\anaconda3\\lib\\site-packages (from requests) (1.26.9)\n",
      "Requirement already satisfied: certifi>=2017.4.17 in c:\\users\\jason\\anaconda3\\lib\\site-packages (from requests) (2022.9.14)\n",
      "Requirement already satisfied: idna<4,>=2.5 in c:\\users\\jason\\anaconda3\\lib\\site-packages (from requests) (3.3)\n",
      "Requirement already satisfied: charset-normalizer<4,>=2 in c:\\users\\jason\\anaconda3\\lib\\site-packages (from requests) (2.0.4)\n",
      "Collecting phonenumbers\n",
      "  Downloading phonenumbers-8.13.11-py2.py3-none-any.whl (2.6 MB)\n",
      "Installing collected packages: phonenumbers\n",
      "Successfully installed phonenumbers-8.13.11\n"
     ]
    }
   ],
   "source": [
    "!pip install flask_ngrok\n",
    "!pip install flask\n",
    "!pip install openai\n",
    "!pip install python-dotenv\n",
    "!pip install line-bot-sdk\n",
    "# 爬蟲要用的套件\n",
    "!pip install beautifulsoup4\n",
    "!pip install requests\n",
    "!pip install phonenumbers"
   ]
  },
  {
   "cell_type": "code",
   "execution_count": 1,
   "metadata": {},
   "outputs": [
    {
     "data": {
      "text/plain": [
       "True"
      ]
     },
     "execution_count": 1,
     "metadata": {},
     "output_type": "execute_result"
    }
   ],
   "source": [
    "from dotenv import load_dotenv\n",
    "from pathlib import Path\n",
    "import os\n",
    "env_path = Path('.') / '.env'\n",
    "load_dotenv(dotenv_path=env_path)"
   ]
  },
  {
   "cell_type": "code",
   "execution_count": 58,
   "metadata": {},
   "outputs": [
    {
     "data": {
      "text/plain": [
       "'小心!此電話可能為貸款推銷'"
      ]
     },
     "execution_count": 58,
     "metadata": {},
     "output_type": "execute_result"
    }
   ],
   "source": [
    "query = \"0917209216\"\n",
    "ans = phoneSearch(query)\n",
    "ans"
   ]
  },
  {
   "cell_type": "code",
   "execution_count": 57,
   "metadata": {},
   "outputs": [],
   "source": [
    "import requests\n",
    "import phonenumbers\n",
    "from bs4 import BeautifulSoup\n",
    "def phoneSearch(query:str) -> str:\n",
    "    # 電話型態     \n",
    "    phoneType = {\"無聲電話\",\"廣告簡訊\",\"想一聲就掛\",\"詐騙簡訊\",\"一接就掛\",\"詐騙電話\",\n",
    "                 \"貸款推銷\",\"銀行推銷\",\"保險推銷\",\"投資推銷\",\"騷擾電話\"}\n",
    "    pNum = '+886'+query\n",
    "    try:\n",
    "        pNum = phonenumbers.parse(pNum)\n",
    "        set1 = set()\n",
    "        if phonenumbers.is_valid_number(pNum):\n",
    "            url = \"https://whocall.cc/search/\"+query\n",
    "            headers = {'user-agent': 'Mozilla/5.0 (Windows NT 6.1) AppleWebKit/537.36 (KHTML, like Gecko) Chrome/52.0.2743.116 Safari/537.36'}\n",
    "            response = requests.get(url, headers=headers)\n",
    "            response.encoding = 'utf8'\n",
    "            soup = BeautifulSoup(response.text, 'html.parser')\n",
    "            tags = soup.find_all(\"p\", {\"class\": \"card-text\"})\n",
    "            for tag in tags:\n",
    "                if tag.text in phoneType:\n",
    "                    return \"小心!此電話可能為\"+tag.text\n",
    "        else:\n",
    "            return \"非臺灣地區電話格式\"\n",
    "    except phonenumbers.NumberParseException:\n",
    "        return \"電話數字格式錯誤\"\n",
    "    except Exception as e:\n",
    "        return str(e)\n",
    "    return \"查無此號或一般未知來電\""
   ]
  },
  {
   "cell_type": "code",
   "execution_count": null,
   "metadata": {
    "colab": {
     "background_save": true,
     "base_uri": "https://localhost:8080/"
    },
    "id": "0sBINm5D6Sd2",
    "outputId": "ce214ebb-9db4-4f9a-d06c-e9484ff51558"
   },
   "outputs": [
    {
     "name": "stdout",
     "output_type": "stream",
     "text": [
      " * Serving Flask app \"__main__\" (lazy loading)\n",
      " * Environment: production\n",
      "\u001b[31m   WARNING: This is a development server. Do not use it in a production deployment.\u001b[0m\n",
      "\u001b[2m   Use a production WSGI server instead.\u001b[0m\n",
      " * Debug mode: off\n"
     ]
    },
    {
     "name": "stderr",
     "output_type": "stream",
     "text": [
      " * Running on http://127.0.0.1:5000/ (Press CTRL+C to quit)\n"
     ]
    },
    {
     "name": "stdout",
     "output_type": "stream",
     "text": [
      "{'destination': 'Ue73009b34b87bd9fc36ee196aa196265', 'events': [{'type': 'message', 'message': {'type': 'text', 'id': '457262810754711858', 'text': 'call 0917209216'}, 'webhookEventId': '01H1M8QS431Y4G5RNB7Z6A320P', 'deliveryContext': {'isRedelivery': False}, 'timestamp': 1685381178065, 'source': {'type': 'user', 'userId': 'U03bbae7973739f2fe42eed377fd32992'}, 'replyToken': '66d72fbfb3dc4e9cbc7095dcbe6651f0', 'mode': 'active'}]}\n"
     ]
    },
    {
     "name": "stderr",
     "output_type": "stream",
     "text": [
      "127.0.0.1 - - [30/May/2023 01:28:57] \"POST / HTTP/1.1\" 200 -\n"
     ]
    }
   ],
   "source": [
    "import openai\n",
    "from flask import Flask, request\n",
    "\n",
    "# 載入 LINE Message API 相關函式庫\n",
    "from linebot import LineBotApi, WebhookHandler\n",
    "from linebot.models import TextSendMessage   # 載入 TextSendMessage 模組\n",
    "import json\n",
    "\n",
    "app = Flask(__name__)\n",
    "\n",
    "@app.route(\"/\", methods=['POST'])\n",
    "def linebot():\n",
    "    body = request.get_data(as_text=True)\n",
    "    json_data = json.loads(body)\n",
    "    print(json_data)\n",
    "    try:\n",
    "#         取得環境變數\n",
    "        gpt_key=os.environ.get('CHATGPT')\n",
    "        channel_token=os.environ.get('CHANNEL_TOKEN')\n",
    "        channel_secret=os.environ.get('CHANNEL_SECRET')\n",
    "        line_bot_api=LineBotApi(channel_token)\n",
    "        handler=WebhookHandler(channel_secret)\n",
    "        signature=request.headers['X-Line-Signature']\n",
    "        handler.handle(body, signature)\n",
    "        tk=json_data['events'][0]['replyToken']\n",
    "        msg=json_data['events'][0]['message']['text']\n",
    "        # 取出文字的前五個字元，轉換成小寫\n",
    "        ai_msg = msg[:5].lower()\n",
    "        reply_msg = ''\n",
    "        # 取出文字的前五個字元是 chat:\n",
    "        if ai_msg == 'chat ':\n",
    "            openai.api_key = gpt_key\n",
    "            # 將第五個字元之後的訊息發送給 OpenAI\n",
    "            response = openai.Completion.create(\n",
    "                model='text-davinci-003',\n",
    "                prompt=msg[5:],\n",
    "                max_tokens=256,\n",
    "                temperature=0.5,\n",
    "                )\n",
    "            # 接收到回覆訊息後，移除換行符號\n",
    "            reply_msg = response[\"choices\"][0][\"text\"].replace('\\n','')\n",
    "        elif ai_msg == 'call ':\n",
    "            query = msg[5:]\n",
    "            reply_msg = phoneSearch(query)\n",
    "        else:\n",
    "            reply_msg = msg\n",
    "        text_message = TextSendMessage(text=reply_msg)\n",
    "        line_bot_api.reply_message(tk,text_message)\n",
    "    except:\n",
    "        print('error')\n",
    "    return 'OK'\n",
    "\n",
    "if __name__ == \"__main__\":\n",
    "    app.run()  #最後生成網址，貼到line: messaging API-->webhook url"
   ]
  },
  {
   "cell_type": "code",
   "execution_count": null,
   "metadata": {},
   "outputs": [],
   "source": []
  }
 ],
 "metadata": {
  "accelerator": "TPU",
  "colab": {
   "provenance": []
  },
  "gpuClass": "standard",
  "kernelspec": {
   "display_name": "Python 3 (ipykernel)",
   "language": "python",
   "name": "python3"
  },
  "language_info": {
   "codemirror_mode": {
    "name": "ipython",
    "version": 3
   },
   "file_extension": ".py",
   "mimetype": "text/x-python",
   "name": "python",
   "nbconvert_exporter": "python",
   "pygments_lexer": "ipython3",
   "version": "3.9.12"
  }
 },
 "nbformat": 4,
 "nbformat_minor": 1
}
